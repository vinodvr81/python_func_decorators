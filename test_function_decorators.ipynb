{
 "cells": [
  {
   "cell_type": "code",
   "execution_count": 6,
   "metadata": {},
   "outputs": [
    {
     "name": "stderr",
     "output_type": "stream",
     "text": [
      "..\n",
      "----------------------------------------------------------------------\n",
      "Ran 2 tests in 0.005s\n",
      "\n",
      "OK\n"
     ]
    }
   ],
   "source": [
    "import importlib\n",
    "import unittest\n",
    "nb = importlib.import_module(\"ipynb.fs.defs.function_decorators\")\n",
    "max_min = nb.max_min\n",
    "iteration_average = nb.iteration_average\n",
    "\n",
    "\n",
    "class TestFunction_decorators(unittest.TestCase):\n",
    "    def test_max_min(self):\n",
    "        res = max_min([11,10,12])\n",
    "        self.assertEqual(res,2)\n",
    "    def test_iteration_average(self):\n",
    "        res = iteration_average([10,11,12])\n",
    "        self.assertEqual(res,11)\n",
    "if __name__ == '__main__':\n",
    "    unittest.main(argv=['first-arg-is-ignored'], exit=False)"
   ]
  },
  {
   "cell_type": "code",
   "execution_count": null,
   "metadata": {},
   "outputs": [],
   "source": []
  }
 ],
 "metadata": {
  "kernelspec": {
   "display_name": "Python 3 (ipykernel)",
   "language": "python",
   "name": "python3"
  },
  "language_info": {
   "codemirror_mode": {
    "name": "ipython",
    "version": 3
   },
   "file_extension": ".py",
   "mimetype": "text/x-python",
   "name": "python",
   "nbconvert_exporter": "python",
   "pygments_lexer": "ipython3",
   "version": "3.10.5"
  }
 },
 "nbformat": 4,
 "nbformat_minor": 4
}

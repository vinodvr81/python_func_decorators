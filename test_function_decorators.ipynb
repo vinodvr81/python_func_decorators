{
 "cells": [
  {
   "cell_type": "code",
   "execution_count": 7,
   "metadata": {},
   "outputs": [
    {
     "name": "stderr",
     "output_type": "stream",
     "text": [
      "......\n",
      "----------------------------------------------------------------------\n",
      "Ran 6 tests in 0.017s\n",
      "\n",
      "OK\n"
     ]
    }
   ],
   "source": [
    "import importlib\n",
    "import unittest\n",
    "import doctest\n",
    "\n",
    "nb = importlib.import_module(\"ipynb.fs.defs.function_decorators\")\n",
    "max_min,iteration_average,range_inner_apply = (nb.max_min,nb.iteration_average,nb.range_inner_apply)\n",
    "funRange,new_addition = (nb.funRange,nb.new_addition)\n",
    "closure_ex= nb.closure_ex\n",
    "\n",
    "class TestFunction_decorators(unittest.TestCase):\n",
    "    def test_max_min(self):\n",
    "        res = max_min([11,10,12])\n",
    "        self.assertEqual(res,2)\n",
    "    def test_iteration_average(self):\n",
    "        res = iteration_average([10,11,12])\n",
    "        self.assertEqual(res,11)\n",
    "    def test_range_inner_apply(self):\n",
    "        list1 = [0,1,2,3,4,5]\n",
    "        res = range_inner_apply(list1)\n",
    "        self.assertEqual(res,[1.5])\n",
    "    def test_funRange(self):\n",
    "        list1 = [1,2,3,4,5,6]\n",
    "        res = funRange(list1)\n",
    "        self.assertEqual(res,[2.5])\n",
    "    def test_closure_ex(self):\n",
    "        list1 = [1,2,3,4,5,6]\n",
    "        res1 = closure_ex(iteration_average)\n",
    "        self.assertEqual(res1(list1),[2.5]) \n",
    "    def test_closure_fun_two(self):\n",
    "        res1 = closure_ex(iteration_average)\n",
    "        res = res1(range(21))\n",
    "        self.assertEqual(res,[1.5, 5.5, 9.5, 13.5, 17.5])        \n",
    "if __name__ == '__main__':\n",
    "    unittest.main(argv=['first-arg-is-ignored'], exit=False)\n",
    "    doctest.testmod()"
   ]
  },
  {
   "cell_type": "code",
   "execution_count": null,
   "metadata": {},
   "outputs": [],
   "source": []
  }
 ],
 "metadata": {
  "kernelspec": {
   "display_name": "Python 3 (ipykernel)",
   "language": "python",
   "name": "python3"
  },
  "language_info": {
   "codemirror_mode": {
    "name": "ipython",
    "version": 3
   },
   "file_extension": ".py",
   "mimetype": "text/x-python",
   "name": "python",
   "nbconvert_exporter": "python",
   "pygments_lexer": "ipython3",
   "version": "3.10.5"
  }
 },
 "nbformat": 4,
 "nbformat_minor": 4
}

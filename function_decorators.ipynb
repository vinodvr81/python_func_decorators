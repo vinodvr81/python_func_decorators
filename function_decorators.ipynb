{
 "cells": [
  {
   "cell_type": "code",
   "execution_count": 1,
   "metadata": {},
   "outputs": [
    {
     "data": {
      "text/plain": [
       "170"
      ]
     },
     "execution_count": 1,
     "metadata": {},
     "output_type": "execute_result"
    }
   ],
   "source": [
    "def max_min(seq:list)->int:\n",
    "    return max(seq)-min(seq)\n",
    "max_min([-100,10,6,70])"
   ]
  },
  {
   "cell_type": "code",
   "execution_count": 2,
   "metadata": {},
   "outputs": [
    {
     "data": {
      "text/plain": [
       "<function __main__.max_min(seq: list) -> int>"
      ]
     },
     "execution_count": 2,
     "metadata": {},
     "output_type": "execute_result"
    }
   ],
   "source": [
    "max_min"
   ]
  },
  {
   "cell_type": "code",
   "execution_count": 3,
   "metadata": {},
   "outputs": [
    {
     "data": {
      "text/plain": [
       "2792913348656"
      ]
     },
     "execution_count": 3,
     "metadata": {},
     "output_type": "execute_result"
    }
   ],
   "source": [
    "id(max_min)"
   ]
  },
  {
   "cell_type": "code",
   "execution_count": 4,
   "metadata": {},
   "outputs": [],
   "source": [
    "max_min.__doc__"
   ]
  },
  {
   "cell_type": "code",
   "execution_count": 5,
   "metadata": {},
   "outputs": [
    {
     "name": "stdout",
     "output_type": "stream",
     "text": [
      "__annotations__\n",
      "\n",
      "\n",
      "__builtins__\n",
      "\n",
      "\n",
      "__call__\n",
      "\n",
      "\n",
      "__class__\n",
      "\n",
      "\n",
      "__closure__\n",
      "\n",
      "\n",
      "__code__\n",
      "\n",
      "\n",
      "__defaults__\n",
      "\n",
      "\n",
      "__delattr__\n",
      "\n",
      "\n",
      "__dict__\n",
      "\n",
      "\n",
      "__dir__\n",
      "\n",
      "\n",
      "__doc__\n",
      "\n",
      "\n",
      "__eq__\n",
      "\n",
      "\n",
      "__format__\n",
      "\n",
      "\n",
      "__ge__\n",
      "\n",
      "\n",
      "__get__\n",
      "\n",
      "\n",
      "__getattribute__\n",
      "\n",
      "\n",
      "__globals__\n",
      "\n",
      "\n",
      "__gt__\n",
      "\n",
      "\n",
      "__hash__\n",
      "\n",
      "\n",
      "__init__\n",
      "\n",
      "\n",
      "__init_subclass__\n",
      "\n",
      "\n",
      "__kwdefaults__\n",
      "\n",
      "\n",
      "__le__\n",
      "\n",
      "\n",
      "__lt__\n",
      "\n",
      "\n",
      "__module__\n",
      "\n",
      "\n",
      "__name__\n",
      "\n",
      "\n",
      "__ne__\n",
      "\n",
      "\n",
      "__new__\n",
      "\n",
      "\n",
      "__qualname__\n",
      "\n",
      "\n",
      "__reduce__\n",
      "\n",
      "\n",
      "__reduce_ex__\n",
      "\n",
      "\n",
      "__repr__\n",
      "\n",
      "\n",
      "__setattr__\n",
      "\n",
      "\n",
      "__sizeof__\n",
      "\n",
      "\n",
      "__str__\n",
      "\n",
      "\n",
      "__subclasshook__\n",
      "\n",
      "\n"
     ]
    }
   ],
   "source": [
    "for i in dir(max_min):\n",
    "    print(i)\n",
    "    print(\"\\n\")"
   ]
  },
  {
   "cell_type": "code",
   "execution_count": 6,
   "metadata": {},
   "outputs": [
    {
     "data": {
      "text/plain": [
       "36"
      ]
     },
     "execution_count": 6,
     "metadata": {},
     "output_type": "execute_result"
    }
   ],
   "source": [
    "len(dir(max_min))"
   ]
  },
  {
   "cell_type": "code",
   "execution_count": 7,
   "metadata": {},
   "outputs": [],
   "source": [
    "max_min.__closure__"
   ]
  },
  {
   "cell_type": "code",
   "execution_count": 8,
   "metadata": {},
   "outputs": [
    {
     "data": {
      "text/plain": [
       "{'seq': list, 'return': int}"
      ]
     },
     "execution_count": 8,
     "metadata": {},
     "output_type": "execute_result"
    }
   ],
   "source": [
    "max_min.__annotations__"
   ]
  },
  {
   "cell_type": "code",
   "execution_count": 9,
   "metadata": {},
   "outputs": [
    {
     "data": {
      "text/plain": [
       "NoneType"
      ]
     },
     "execution_count": 9,
     "metadata": {},
     "output_type": "execute_result"
    }
   ],
   "source": [
    "type(max_min.__closure__)"
   ]
  },
  {
   "cell_type": "code",
   "execution_count": 18,
   "metadata": {},
   "outputs": [],
   "source": [
    "import doctest\n",
    "def iteration_average(seq:list)->float:\n",
    "    \"\"\" Returns the mean of a sequence \n",
    "        >>> iteration_average([1,2,5])\n",
    "        2.6666666666666665\n",
    "        \"\"\"\n",
    "    return sum(seq)/len(seq)\n",
    "\n",
    "iteration_average([23,2,5,-8])\n",
    "if __name__ == '__main__':\n",
    "    doctest.testmod()"
   ]
  },
  {
   "cell_type": "code",
   "execution_count": 19,
   "metadata": {},
   "outputs": [
    {
     "name": "stdout",
     "output_type": "stream",
     "text": [
      "**********************************************************************\n",
      "File \"__main__\", line 3, in __main__.iteration_average_f\n",
      "Failed example:\n",
      "    iteration_average_f([1,2,5])\n",
      "Expected:\n",
      "    2.66666666666665\n",
      "Got:\n",
      "    2.6666666666666665\n",
      "**********************************************************************\n",
      "1 items had failures:\n",
      "   1 of   1 in __main__.iteration_average_f\n",
      "***Test Failed*** 1 failures.\n"
     ]
    }
   ],
   "source": [
    "def iteration_average_f(seq:list)->float:\n",
    "    \"\"\" Returns the mean of a sequence \n",
    "        >>> iteration_average_f([1,2,5])\n",
    "        2.66666666666665\n",
    "        \"\"\"\n",
    "    return sum(seq)/len(seq)\n",
    "\n",
    "iteration_average_f([23,2,5,-8])\n",
    "if __name__ == '__main__':\n",
    "    doctest.testmod()"
   ]
  },
  {
   "cell_type": "code",
   "execution_count": null,
   "metadata": {},
   "outputs": [],
   "source": []
  }
 ],
 "metadata": {
  "kernelspec": {
   "display_name": "Python 3 (ipykernel)",
   "language": "python",
   "name": "python3"
  },
  "language_info": {
   "codemirror_mode": {
    "name": "ipython",
    "version": 3
   },
   "file_extension": ".py",
   "mimetype": "text/x-python",
   "name": "python",
   "nbconvert_exporter": "python",
   "pygments_lexer": "ipython3",
   "version": "3.10.5"
  }
 },
 "nbformat": 4,
 "nbformat_minor": 4
}
